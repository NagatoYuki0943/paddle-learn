{
 "cells": [
  {
   "cell_type": "code",
   "execution_count": 51,
   "metadata": {},
   "outputs": [],
   "source": [
    "import fastdeploy as fd\n",
    "import cv2\n",
    "import os"
   ]
  },
  {
   "cell_type": "markdown",
   "metadata": {},
   "source": [
    "# config"
   ]
  },
  {
   "cell_type": "code",
   "execution_count": 18,
   "metadata": {},
   "outputs": [],
   "source": [
    "class Config:\n",
    "    det_model: str      # Path of Detection model of PPOCR.\n",
    "    cls_model: str      # Path of Classification model of PPOCR.\n",
    "    rec_model: str      # Path of Recognization model of PPOCR.\n",
    "    rec_label_file: str # Path of Recognization label of PPOCR.\n",
    "    device: int         # Type of inference device, support 'cpu' or 'gpu'.\n",
    "    device_id: int      # Define which GPU card used to run model.\n",
    "    cls_bs: int         # Classification model inference batch size.\n",
    "    rec_bs: int         # Recognition model inference batch size\n",
    "    backend: str        # Type of inference backend, support ort/trt/paddle/openvino, default 'openvino' for cpu, 'tensorrt' for gpu"
   ]
  },
  {
   "cell_type": "code",
   "execution_count": 19,
   "metadata": {},
   "outputs": [],
   "source": [
    "def parse_arguments():\n",
    "    config = Config()\n",
    "    config.det_model = r\"ch_PP-OCRv3_det_infer\"\n",
    "    config.cls_model = r\"ch_ppocr_mobile_v2.0_cls_infer\"\n",
    "    config.rec_model = r\"ch_PP-OCRv3_rec_infer\"\n",
    "    config.rec_label_file = r\"ppocr_keys_v1.txt\"\n",
    "    config.device = r\"cpu\"\n",
    "    config.device_id = 0\n",
    "    config.cls_bs = 1\n",
    "    config.rec_bs = 6\n",
    "    config.backend = \"default\"\n",
    "    return config"
   ]
  },
  {
   "cell_type": "code",
   "execution_count": 20,
   "metadata": {},
   "outputs": [],
   "source": [
    "def build_option(args):\n",
    "\n",
    "    det_option = fd.RuntimeOption()\n",
    "    cls_option = fd.RuntimeOption()\n",
    "    rec_option = fd.RuntimeOption()\n",
    "\n",
    "    if args.device.lower() == \"gpu\":\n",
    "        det_option.use_gpu(args.device_id)\n",
    "        cls_option.use_gpu(args.device_id)\n",
    "        rec_option.use_gpu(args.device_id)\n",
    "\n",
    "    if args.backend.lower() == \"trt\":\n",
    "        assert args.device.lower(\n",
    "        ) == \"gpu\", \"TensorRT backend require inference on device GPU.\"\n",
    "        det_option.use_trt_backend()\n",
    "        cls_option.use_trt_backend()\n",
    "        rec_option.use_trt_backend()\n",
    "\n",
    "        # If use TRT backend, the dynamic shape will be set as follow.\n",
    "        # We recommend that users set the length and height of the detection model to a multiple of 32.\n",
    "        # We also recommend that users set the Trt input shape as follow.\n",
    "        det_option.set_trt_input_shape(\"x\", [1, 3, 64, 64], [1, 3, 640, 640],\n",
    "                                       [1, 3, 960, 960])\n",
    "        cls_option.set_trt_input_shape(\"x\", [1, 3, 48, 10],\n",
    "                                       [args.cls_bs, 3, 48, 320],\n",
    "                                       [args.cls_bs, 3, 48, 1024])\n",
    "        rec_option.set_trt_input_shape(\"x\", [1, 3, 48, 10],\n",
    "                                       [args.rec_bs, 3, 48, 320],\n",
    "                                       [args.rec_bs, 3, 48, 2304])\n",
    "\n",
    "        # Users could save TRT cache file to disk as follow.\n",
    "        det_option.set_trt_cache_file(args.det_model + \"/det_trt_cache.trt\")\n",
    "        cls_option.set_trt_cache_file(args.cls_model + \"/cls_trt_cache.trt\")\n",
    "        rec_option.set_trt_cache_file(args.rec_model + \"/rec_trt_cache.trt\")\n",
    "\n",
    "    elif args.backend.lower() == \"pptrt\":\n",
    "        assert args.device.lower(\n",
    "        ) == \"gpu\", \"Paddle-TensorRT backend require inference on device GPU.\"\n",
    "        det_option.use_paddle_infer_backend()\n",
    "        det_option.paddle_infer_option.collect_trt_shape = True\n",
    "        det_option.paddle_infer_option.enable_trt = True\n",
    "\n",
    "        cls_option.use_paddle_infer_backend()\n",
    "        cls_option.paddle_infer_option.collect_trt_shape = True\n",
    "        cls_option.paddle_infer_option.enable_trt = True\n",
    "\n",
    "        rec_option.use_paddle_infer_backend()\n",
    "        rec_option.paddle_infer_option.collect_trt_shape = True\n",
    "        rec_option.paddle_infer_option.enable_trt = True\n",
    "\n",
    "        # If use TRT backend, the dynamic shape will be set as follow.\n",
    "        # We recommend that users set the length and height of the detection model to a multiple of 32.\n",
    "        # We also recommend that users set the Trt input shape as follow.\n",
    "        det_option.set_trt_input_shape(\"x\", [1, 3, 64, 64], [1, 3, 640, 640],\n",
    "                                       [1, 3, 960, 960])\n",
    "        cls_option.set_trt_input_shape(\"x\", [1, 3, 48, 10],\n",
    "                                       [args.cls_bs, 3, 48, 320],\n",
    "                                       [args.cls_bs, 3, 48, 1024])\n",
    "        rec_option.set_trt_input_shape(\"x\", [1, 3, 48, 10],\n",
    "                                       [args.rec_bs, 3, 48, 320],\n",
    "                                       [args.rec_bs, 3, 48, 2304])\n",
    "\n",
    "        # Users could save TRT cache file to disk as follow.\n",
    "        det_option.set_trt_cache_file(args.det_model)\n",
    "        cls_option.set_trt_cache_file(args.cls_model)\n",
    "        rec_option.set_trt_cache_file(args.rec_model)\n",
    "\n",
    "    elif args.backend.lower() == \"ort\":\n",
    "        det_option.use_ort_backend()\n",
    "        cls_option.use_ort_backend()\n",
    "        rec_option.use_ort_backend()\n",
    "\n",
    "    elif args.backend.lower() == \"paddle\":\n",
    "        det_option.use_paddle_infer_backend()\n",
    "        cls_option.use_paddle_infer_backend()\n",
    "        rec_option.use_paddle_infer_backend()\n",
    "\n",
    "    elif args.backend.lower() == \"openvino\":\n",
    "        assert args.device.lower(\n",
    "        ) == \"cpu\", \"OpenVINO backend require inference on device CPU.\"\n",
    "        det_option.use_openvino_backend()\n",
    "        cls_option.use_openvino_backend()\n",
    "        rec_option.use_openvino_backend()\n",
    "\n",
    "    elif args.backend.lower() == \"pplite\":\n",
    "        assert args.device.lower(\n",
    "        ) == \"cpu\", \"Paddle Lite backend require inference on device CPU.\"\n",
    "        det_option.use_lite_backend()\n",
    "        cls_option.use_lite_backend()\n",
    "        rec_option.use_lite_backend()\n",
    "\n",
    "    return det_option, cls_option, rec_option"
   ]
  },
  {
   "cell_type": "markdown",
   "metadata": {},
   "source": [
    "# load model"
   ]
  },
  {
   "cell_type": "code",
   "execution_count": null,
   "metadata": {},
   "outputs": [],
   "source": [
    "args = parse_arguments()"
   ]
  },
  {
   "cell_type": "code",
   "execution_count": 22,
   "metadata": {},
   "outputs": [],
   "source": [
    "det_model_file = os.path.join(args.det_model, \"inference.pdmodel\")\n",
    "det_params_file = os.path.join(args.det_model, \"inference.pdiparams\")\n",
    "\n",
    "cls_model_file = os.path.join(args.cls_model, \"inference.pdmodel\")\n",
    "cls_params_file = os.path.join(args.cls_model, \"inference.pdiparams\")\n",
    "\n",
    "rec_model_file = os.path.join(args.rec_model, \"inference.pdmodel\")\n",
    "rec_params_file = os.path.join(args.rec_model, \"inference.pdiparams\")\n",
    "rec_label_file = args.rec_label_file\n",
    "\n",
    "det_option, cls_option, rec_option = build_option(args)\n",
    "\n",
    "det_model = fd.vision.ocr.DBDetector(\n",
    "    det_model_file, det_params_file, runtime_option=det_option)\n",
    "\n",
    "cls_model = fd.vision.ocr.Classifier(\n",
    "    cls_model_file, cls_params_file, runtime_option=cls_option)\n",
    "\n",
    "rec_model = fd.vision.ocr.Recognizer(\n",
    "    rec_model_file, rec_params_file, rec_label_file, runtime_option=rec_option)\n",
    "\n",
    "# Parameters settings for pre and post processing of Det/Cls/Rec Models.\n",
    "# All parameters are set to default values.\n",
    "det_model.preprocessor.max_side_len = 960\n",
    "det_model.postprocessor.det_db_thresh = 0.3\n",
    "det_model.postprocessor.det_db_box_thresh = 0.6\n",
    "det_model.postprocessor.det_db_unclip_ratio = 1.5\n",
    "det_model.postprocessor.det_db_score_mode = \"slow\"\n",
    "det_model.postprocessor.use_dilation = False\n",
    "cls_model.postprocessor.cls_thresh = 0.9\n",
    "\n",
    "# Create PP-OCRv3, if cls_model is not needed, just set cls_model=None .\n",
    "ppocr_v3 = fd.vision.ocr.PPOCRv3(det_model=det_model, cls_model=cls_model, rec_model=rec_model)\n",
    "\n",
    "# Set inference batch size for cls model and rec model, the value could be -1 and 1 to positive infinity.\n",
    "# When inference batch size is set to -1, it means that the inference batch size\n",
    "# of the cls and rec models will be the same as the number of boxes detected by the det model.\n",
    "ppocr_v3.cls_batch_size = args.cls_bs\n",
    "ppocr_v3.rec_batch_size = args.rec_bs"
   ]
  },
  {
   "cell_type": "markdown",
   "metadata": {},
   "source": [
    "# det"
   ]
  },
  {
   "cell_type": "code",
   "execution_count": 23,
   "metadata": {},
   "outputs": [],
   "source": [
    "image_str = \"12.jpg\""
   ]
  },
  {
   "cell_type": "code",
   "execution_count": 26,
   "metadata": {},
   "outputs": [],
   "source": [
    "# Read the input image\n",
    "im = cv2.imread(image_str)"
   ]
  },
  {
   "cell_type": "markdown",
   "metadata": {},
   "source": [
    "# result"
   ]
  },
  {
   "cell_type": "code",
   "execution_count": 35,
   "metadata": {},
   "outputs": [
    {
     "data": {
      "text/plain": [
       "det boxes: [[42,413],[483,391],[484,428],[43,450]]rec text: 上海斯格威铂尔大酒店 rec score:0.980086 cls label: 0 cls score: 1.000000\n",
       "det boxes: [[187,456],[399,448],[400,480],[188,488]]rec text: 打浦路15号 rec score:0.964994 cls label: 0 cls score: 1.000000\n",
       "det boxes: [[23,507],[513,488],[515,529],[24,548]]rec text: 绿洲仕格维花园公寓 rec score:0.993728 cls label: 0 cls score: 1.000000\n",
       "det boxes: [[74,553],[427,542],[428,571],[75,582]]rec text: 打浦路252935号 rec score:0.947724 cls label: 0 cls score: 1.000000"
      ]
     },
     "execution_count": 35,
     "metadata": {},
     "output_type": "execute_result"
    }
   ],
   "source": [
    "# Predict and reutrn the results\n",
    "result = ppocr_v3.predict(im)\n",
    "result"
   ]
  },
  {
   "cell_type": "code",
   "execution_count": 36,
   "metadata": {},
   "outputs": [
    {
     "data": {
      "text/plain": [
       "[[42, 413, 483, 391, 484, 428, 43, 450],\n",
       " [187, 456, 399, 448, 400, 480, 188, 488],\n",
       " [23, 507, 513, 488, 515, 529, 24, 548],\n",
       " [74, 553, 427, 542, 428, 571, 75, 582]]"
      ]
     },
     "execution_count": 36,
     "metadata": {},
     "output_type": "execute_result"
    }
   ],
   "source": [
    "result.boxes"
   ]
  },
  {
   "cell_type": "code",
   "execution_count": 29,
   "metadata": {},
   "outputs": [
    {
     "data": {
      "text/plain": [
       "['上海斯格威铂尔大酒店', '打浦路15号', '绿洲仕格维花园公寓', '打浦路252935号']"
      ]
     },
     "execution_count": 29,
     "metadata": {},
     "output_type": "execute_result"
    }
   ],
   "source": [
    "result.text"
   ]
  },
  {
   "cell_type": "code",
   "execution_count": 30,
   "metadata": {},
   "outputs": [
    {
     "data": {
      "text/plain": [
       "[0.9800858497619629,\n",
       " 0.9649936556816101,\n",
       " 0.9937275648117065,\n",
       " 0.9477238655090332]"
      ]
     },
     "execution_count": 30,
     "metadata": {},
     "output_type": "execute_result"
    }
   ],
   "source": [
    "result.rec_scores"
   ]
  },
  {
   "cell_type": "code",
   "execution_count": 31,
   "metadata": {},
   "outputs": [
    {
     "data": {
      "text/plain": [
       "[0, 0, 0, 0]"
      ]
     },
     "execution_count": 31,
     "metadata": {},
     "output_type": "execute_result"
    }
   ],
   "source": [
    "result.cls_labels"
   ]
  },
  {
   "cell_type": "code",
   "execution_count": 32,
   "metadata": {},
   "outputs": [
    {
     "data": {
      "text/plain": [
       "[1.0, 1.0, 1.0, 1.0]"
      ]
     },
     "execution_count": 32,
     "metadata": {},
     "output_type": "execute_result"
    }
   ],
   "source": [
    "result.cls_scores"
   ]
  },
  {
   "cell_type": "code",
   "execution_count": 49,
   "metadata": {},
   "outputs": [
    {
     "data": {
      "text/plain": [
       "[{'box': [[42, 413], [483, 391], [484, 428], [43, 450]],\n",
       "  'text': '上海斯格威铂尔大酒店',\n",
       "  'rec_score': 0.9800858497619629,\n",
       "  'cls_label': 0,\n",
       "  'cls_score': 1.0},\n",
       " {'box': [[187, 456], [399, 448], [400, 480], [188, 488]],\n",
       "  'text': '打浦路15号',\n",
       "  'rec_score': 0.9649936556816101,\n",
       "  'cls_label': 0,\n",
       "  'cls_score': 1.0},\n",
       " {'box': [[23, 507], [513, 488], [515, 529], [24, 548]],\n",
       "  'text': '绿洲仕格维花园公寓',\n",
       "  'rec_score': 0.9937275648117065,\n",
       "  'cls_label': 0,\n",
       "  'cls_score': 1.0},\n",
       " {'box': [[74, 553], [427, 542], [428, 571], [75, 582]],\n",
       "  'text': '打浦路252935号',\n",
       "  'rec_score': 0.9477238655090332,\n",
       "  'cls_label': 0,\n",
       "  'cls_score': 1.0}]"
      ]
     },
     "execution_count": 49,
     "metadata": {},
     "output_type": "execute_result"
    }
   ],
   "source": [
    "detects = []\n",
    "for i, (box, text, rec_score, cls_label, cls_score) in enumerate(\n",
    "    zip(result.boxes, result.text, result.rec_scores, result.cls_labels,result.cls_scores)\n",
    "):\n",
    "    detect = {}\n",
    "    detect[\"box\"]  = [box[0:2], box[2:4], box[4:6], box[6:8]]\n",
    "    detect[\"text\"] = text\n",
    "    detect[\"rec_score\"] = rec_score\n",
    "    detect[\"cls_label\"] = cls_label\n",
    "    detect[\"cls_score\"] = cls_score\n",
    "    detects.append(detect)\n",
    "detects"
   ]
  },
  {
   "cell_type": "code",
   "execution_count": 33,
   "metadata": {},
   "outputs": [
    {
     "name": "stdout",
     "output_type": "stream",
     "text": [
      "Visualized result save in ./visualized_result.jpg\n"
     ]
    }
   ],
   "source": [
    "# Visuliaze the results.\n",
    "vis_im = fd.vision.vis_ppocr(im, result)\n",
    "cv2.imwrite(\"visualized_result.jpg\", vis_im)\n",
    "print(\"Visualized result save in ./visualized_result.jpg\")"
   ]
  },
  {
   "cell_type": "code",
   "execution_count": null,
   "metadata": {},
   "outputs": [],
   "source": []
  }
 ],
 "metadata": {
  "kernelspec": {
   "display_name": "paddle",
   "language": "python",
   "name": "python3"
  },
  "language_info": {
   "codemirror_mode": {
    "name": "ipython",
    "version": 3
   },
   "file_extension": ".py",
   "mimetype": "text/x-python",
   "name": "python",
   "nbconvert_exporter": "python",
   "pygments_lexer": "ipython3",
   "version": "3.10.12"
  },
  "orig_nbformat": 4
 },
 "nbformat": 4,
 "nbformat_minor": 2
}
